{
 "cells": [
  {
   "cell_type": "code",
   "execution_count": 1,
   "metadata": {},
   "outputs": [],
   "source": [
    "import numpy as np\n",
    "import cv2\n",
    "import hashlib\n",
    "import pandas as pd"
   ]
  },
  {
   "cell_type": "code",
   "execution_count": 20,
   "metadata": {},
   "outputs": [],
   "source": [
    "# CONSTANTS\n",
    "IMAGE = cv2.imread(\"lava_lamp.jpeg\")\n",
    "THRESHOLD = 0.25\n",
    "RESIZED_IMG = cv2.cvtColor(cv2.resize(IMAGE, (600, 600)), cv2.COLOR_BGR2RGB)\n",
    "EXP_RES_IMG = RESIZED_IMG.copy()"
   ]
  },
  {
   "cell_type": "code",
   "execution_count": 2,
   "metadata": {},
   "outputs": [
    {
     "name": "stdout",
     "output_type": "stream",
     "text": [
      "Available Cameras: [0, 1]\n"
     ]
    }
   ],
   "source": [
    "def get_available_cameras():\n",
    "    available_cameras = []\n",
    "    # Check for 5 cameras\n",
    "    for i in range(5):\n",
    "        cap = cv2.VideoCapture(i)\n",
    "        if cap.isOpened():\n",
    "            available_cameras.append(i)\n",
    "            cap.release()\n",
    "    return available_cameras\n",
    "\n",
    "\n",
    "cameras = get_available_cameras()\n",
    "if cameras:\n",
    "    print(\"Available Cameras:\", cameras)\n",
    "else:\n",
    "    print(\"No cameras found.\")"
   ]
  },
  {
   "cell_type": "code",
   "execution_count": 11,
   "metadata": {},
   "outputs": [],
   "source": [
    "def create_combined_window(frames_dict, target_width=800, target_height=None):\n",
    "    first_frame = next(iter(frames_dict.values()))\n",
    "    height, width = first_frame.shape[:2]\n",
    "\n",
    "    # Dimensions maintaining aspect ratio\n",
    "    target_height = int(target_width * height / width) if target_height is None else target_height\n",
    "\n",
    "    # Blank canvas to hold all frames\n",
    "    combined = np.zeros(\n",
    "        (target_height, target_width * len(frames_dict), 3), dtype=np.uint8\n",
    "    )\n",
    "\n",
    "    # Add each frame to  canvas\n",
    "    for idx, (name, frame) in enumerate(frames_dict.items()):\n",
    "        # Resize frame\n",
    "        resized_frame = cv2.resize(frame, (target_width, target_height))\n",
    "\n",
    "        # Grayscale -> BGR (if ever)\n",
    "        if len(resized_frame.shape) == 2:\n",
    "            resized_frame = cv2.cvtColor(resized_frame, cv2.COLOR_GRAY2BGR)\n",
    "\n",
    "        # Frame -> Canvas\n",
    "        combined[:, idx * target_width : (idx + 1) * target_width] = resized_frame\n",
    "\n",
    "        # Labeling on top left\n",
    "        cv2.putText(\n",
    "            combined,\n",
    "            name,\n",
    "            (idx * target_width + 10, 30),\n",
    "            cv2.FONT_HERSHEY_SIMPLEX,\n",
    "            1,\n",
    "            (255, 255, 255),\n",
    "            2,\n",
    "        )\n",
    "\n",
    "    return combined\n",
    "\n",
    "\n",
    "def get_hash(x, y, w, h, cx, cy):\n",
    "    data = f\"{x}, {y}, {w}, {h}, {cx}, {cy}\"\n",
    "    d_bytes = data.encode(\"utf-8\")\n",
    "    d_hash = hashlib.sha512(d_bytes).hexdigest()\n",
    "    return d_hash"
   ]
  },
  {
   "cell_type": "code",
   "execution_count": null,
   "metadata": {},
   "outputs": [],
   "source": [
    "df = []\n",
    "cap = cv2.VideoCapture(1)\n",
    "while True:\n",
    "    mean_data = {\"x\": [], \"y\": [], \"w\": [], \"h\": [], \"cx\": [], \"cy\": []}\n",
    "    ret, frame = cap.read()\n",
    "    if not ret:\n",
    "        print(\"Failed!\")\n",
    "        break\n",
    "\n",
    "    gr = cv2.cvtColor(frame, cv2.COLOR_BGR2GRAY)\n",
    "    conv_frame = cv2.threshold(gr, 210, 255, cv2.THRESH_BINARY)[1]\n",
    "    num_labels, labels, stats, centroids = cv2.connectedComponentsWithStats(\n",
    "        conv_frame, 12, cv2.CV_32S\n",
    "    )\n",
    "\n",
    "    for i in range(1, num_labels):\n",
    "        x, y, w, h, area = stats[i]\n",
    "        cv2.rectangle(frame, (x, y), (x + w, y + h), (0, 255, 0), 2)\n",
    "\n",
    "        cx, cy = int(centroids[i][0]), int(centroids[i][1])\n",
    "        cv2.circle(frame, (cx, cy), 5, (0, 0, 255), -1)\n",
    "\n",
    "        mean_data[\"x\"].append(x)\n",
    "        mean_data[\"y\"].append(y)\n",
    "        mean_data[\"w\"].append(w)\n",
    "        mean_data[\"h\"].append(h)\n",
    "        mean_data[\"cx\"].append(cx)\n",
    "        mean_data[\"cy\"].append(cy)\n",
    "\n",
    "    combined = create_combined_window(\n",
    "        {\"Original\": frame, \"Binary\": conv_frame, \"Gray\": gr},\n",
    "        target_width=480, \n",
    "        target_height=360\n",
    "    )\n",
    "\n",
    "    mean_frame = pd.DataFrame(mean_data)\n",
    "    hash = get_hash(*mean_frame.mean().values)\n",
    "    df.append(mean_frame.mean().tolist())\n",
    "    df[-1].append(hash)\n",
    "    \n",
    "    # Single window with both frames\n",
    "    cv2.imshow(\"Lava Lamp Detection\", combined)\n",
    "\n",
    "    if cv2.waitKey(1) & 0xFF == ord(\"q\"):\n",
    "        break\n",
    "\n",
    "cap.release()\n",
    "cv2.destroyAllWindows()\n",
    "display(pd.DataFrame(df, columns=mean_frame.columns.tolist() + [\"hash\"]))"
   ]
  },
  {
   "cell_type": "code",
   "execution_count": 16,
   "metadata": {},
   "outputs": [],
   "source": [
    "df = pd.DataFrame(df, columns=mean_frame.columns.tolist() + [\"hash\"])\n",
    "df.to_csv(\"lava_lamp.csv\", index=False)"
   ]
  },
  {
   "cell_type": "code",
   "execution_count": null,
   "metadata": {},
   "outputs": [],
   "source": []
  }
 ],
 "metadata": {
  "kernelspec": {
   "display_name": "venv",
   "language": "python",
   "name": "python3"
  },
  "language_info": {
   "codemirror_mode": {
    "name": "ipython",
    "version": 3
   },
   "file_extension": ".py",
   "mimetype": "text/x-python",
   "name": "python",
   "nbconvert_exporter": "python",
   "pygments_lexer": "ipython3",
   "version": "3.13.1"
  }
 },
 "nbformat": 4,
 "nbformat_minor": 2
}
